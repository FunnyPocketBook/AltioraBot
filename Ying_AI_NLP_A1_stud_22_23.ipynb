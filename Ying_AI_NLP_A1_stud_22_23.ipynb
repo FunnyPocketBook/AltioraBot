{
  "cells": [
    {
      "cell_type": "markdown",
      "metadata": {
        "id": "view-in-github",
        "colab_type": "text"
      },
      "source": [
        "<a href=\"https://colab.research.google.com/github/FunnyPocketBook/AltioraBot/blob/master/Ying_AI_NLP_A1_stud_22_23.ipynb\" target=\"_parent\"><img src=\"https://colab.research.google.com/assets/colab-badge.svg\" alt=\"Open In Colab\"/></a>"
      ]
    },
    {
      "cell_type": "markdown",
      "metadata": {
        "id": "e1I7_qy2rYZl"
      },
      "source": [
        "# Lab 1: Text Corpora and Language Modelling\n",
        "\n",
        "Welcome to the first lab assignment of INFOMNLP 2023. \n",
        "\n",
        "This lab is meant to help you get familiar with some language data, and use this data to estimate simple models called N-gram language models.\n",
        "\n",
        "First, you will use the **Penn Treebank**, which is a collection of newspaper articles from the newspaper \n",
        "The Wall Street Journal. The idea is to examine the data and notice interesting properties. This will not take more than a few lines of code. The Penn Treebank may be the most widely used corpus in NLP.\n",
        "\n",
        "Then you will use a corpus consisting of **TedX** talks. This you will use to estimate an **N-gram language model** for different orders of N, and use this for some tasks.\n",
        "\n",
        "The dataset URLs are in the notebook and certain cells are responsible to download them."
      ]
    },
    {
      "cell_type": "markdown",
      "source": [
        "# Rules\n",
        "* The assignment should submitted to **Blackboard** as `.ipynb`. Only **one submission per group**.\n",
        "\n",
        "* The **filename** should be the group number, e.g., `01.ipynb` or `31.ipynb`.\n",
        " \n",
        "* The questions marked **Extra** or **Optional** are an additional challenge for those interested in going the extra mile. There are no points for them.\n",
        "\n",
        "**Rules for implementation**\n",
        "\n",
        "* You should **write your code and answers in this iPython Notebook**. (See http://ipython.org/notebook.html for reference material.) If you have problems, please contact your teaching assistant.\n",
        "\n",
        "* Use only **one cell for code** and **one cell for markdown** answers!    \n",
        "\n",
        "    * Put all code in the cell with the `## YOUR CODE HERE ##` comment.\n",
        "    * Provide brief comments on what the code does at crucial points.\n",
        "    * For theoretical questions, put your solution in the `█████ YOUR ANSWER HERE █████` cell.\n",
        "\n",
        "* Don't change or delete any initially provided cells, either text or code, unless explicitly instructed to do so.\n",
        "* Don't delete the comment lines `#TEST...` or edit their code cells. \n",
        "* Don't change the names of provided functions and variables or arguments of the functions. \n",
        "* Leave the output of your code in the output cells.\n",
        "* Don't output unnecessary info (e.g., printing variables for debugging purposes). This clutters the notebook and slows down the grading.\n",
        "* Test your code and **make sure we can run your notebook** in the colab environment.\n",
        "\n",
        "<font color=\"red\">You following these rules helps us to grade the submissions relatively efficiently. If these rules are violated, a submission will be subject to penalty points.</font>  "
      ],
      "metadata": {
        "id": "-T11u_DzP4K6"
      }
    },
    {
      "cell_type": "markdown",
      "source": [
        "# <font color=\"red\">Contributions</font>\n",
        "\n",
        "~~Delete this text and write instead of it your:~~\n",
        "* ~~a list of group members names (NOT student IDs)~~\n",
        "* ~~who contributed to which exercises (you don't need to be very detailed)~~ \n"
      ],
      "metadata": {
        "id": "nNT1WNEnlkBC"
      }
    },
    {
      "cell_type": "markdown",
      "source": [
        "# Set up"
      ],
      "metadata": {
        "id": "nQzq7NHLhHAf"
      }
    },
    {
      "cell_type": "code",
      "execution_count": 24,
      "metadata": {
        "id": "L7pnku7cvBpp"
      },
      "outputs": [],
      "source": [
        "%matplotlib inline\n",
        "import matplotlib\n",
        "import numpy as np\n",
        "import random\n",
        "import pandas as pd\n",
        "import seaborn as sns  \n",
        "import matplotlib.pyplot as plt\n",
        "from collections import defaultdict, Counter"
      ]
    },
    {
      "cell_type": "code",
      "source": [
        "! rm -rf data # remove if it was downloaded\n",
        "! wget -nv -P data https://naturallogic.pro/_files_/download/mNLP/PTB/sec02-21.gold.tagged # download the file\n",
        "! wget -nv -P data https://naturallogic.pro/_files_/download/mNLP/PTB/sec00.gold.tagged\n",
        "! wget -nv -P data https://naturallogic.pro/_files_/download/mNLP/TED/ted-train.txt\n",
        "! wget -nv -P data https://naturallogic.pro/_files_/download/mNLP/TED/ted-test.txt"
      ],
      "metadata": {
        "id": "BlFpCuMjgtPj",
        "colab": {
          "base_uri": "https://localhost:8080/"
        },
        "outputId": "96450f9e-aea8-422a-9142-d7da7973e3a6"
      },
      "execution_count": 25,
      "outputs": [
        {
          "output_type": "stream",
          "name": "stdout",
          "text": [
            "2023-05-12 19:45:11 URL:https://naturallogic.pro/_files_/download/mNLP/PTB/sec02-21.gold.tagged [8158400/8158400] -> \"data/sec02-21.gold.tagged\" [1]\n",
            "2023-05-12 19:45:11 URL:https://naturallogic.pro/_files_/download/mNLP/PTB/sec00.gold.tagged [399917/399917] -> \"data/sec00.gold.tagged\" [1]\n",
            "2023-05-12 19:45:21 URL:https://naturallogic.pro/_files_/download/mNLP/TED/ted-train.txt [24743290/24743290] -> \"data/ted-train.txt\" [1]\n",
            "2023-05-12 19:45:22 URL:https://naturallogic.pro/_files_/download/mNLP/TED/ted-test.txt [25383/25383] -> \"data/ted-test.txt\" [1]\n"
          ]
        }
      ]
    },
    {
      "cell_type": "markdown",
      "source": [
        "# Golab variables"
      ],
      "metadata": {
        "id": "2xIJozz2Z7VE"
      }
    },
    {
      "cell_type": "code",
      "source": [
        "PTB_FILES = {'train': 'data/sec02-21.gold.tagged', 'dev': 'data/sec00.gold.tagged'}\n",
        "TED_FILES = {'train': 'data/ted-train.txt', 'test': 'data/ted-test.txt'}"
      ],
      "metadata": {
        "id": "8SW7DNhHZ_ay"
      },
      "execution_count": 26,
      "outputs": []
    },
    {
      "cell_type": "markdown",
      "metadata": {
        "id": "HYUkG7TKsAAi"
      },
      "source": [
        "# 1. Penn treebank"
      ]
    },
    {
      "cell_type": "markdown",
      "metadata": {
        "id": "flkRSFQtrYZo"
      },
      "source": [
        "## Ex 1.1 [30pt]\n",
        "\n",
        "You are provided with a corpus containing tokens with their Part-of-Speech tags (POS-tags for short). The format is\n",
        "**token|POS** (one sentence per line) and the file name is **sec02-21.gold.tagged**. This data is extracted from Sections 02-21 from the Penn Treebank: these sections are most commonly used for training statistical models like POS taggers and parsers.\n",
        "\n",
        "Note the **distinction between token & word**. \"Token\" is a technical term and represents an occurrence of a word. Here, \"word\" covers both lexical words and other symbols (e.g., punctuations or numbers). Often \"word\" is called \"token type\". So, one can say that a token type can have different occurrences and each occurrence is a token.\n",
        "\n",
        "**[Hint]** **Figure 8.2** in chapter 8 of Jurafsky and Martin (see [here](https://web.stanford.edu/~jurafsky/slp3/8.pdf#page=4)) holds a summary of POS-tags used in the Penn Treebank tagset together with their meaning and some examples.\n",
        "\n",
        "**[Hint]** The Python library [collections](https://docs.python.org/3.7/library/collections.html) has an object called `Counter` which will come in handy for this exercise."
      ]
    },
    {
      "cell_type": "markdown",
      "metadata": {
        "id": "L_md_iporYZs"
      },
      "source": [
        "### (a) Corpus & vocab [5pt]\n",
        "\n",
        "**Print** the corpus size (i.e. the number of **tokens**).  \n",
        "**Print** the size of the **vocabulary** of the corpus. Estimate the vocabulary size both by **lowercasing** all the tokens as well as by leaving the tokens in their **original orthography**.  \n",
        "\n",
        "What is the **advantage** of lowercasing all the tokens in your corpus?  \n",
        "What is a notable **downside**?  \n",
        "**Give examples** of the advantage and the downside."
      ]
    },
    {
      "cell_type": "code",
      "execution_count": 27,
      "metadata": {
        "id": "jxrgbpkdvBpy",
        "colab": {
          "base_uri": "https://localhost:8080/"
        },
        "outputId": "b3642c65-5afc-455b-cc85-fa83fff76ec6"
      },
      "outputs": [
        {
          "output_type": "stream",
          "name": "stdout",
          "text": [
            "Corpus size: 929552\n",
            "Vocabulary size (original orthography): 44210\n",
            "Vocabulary size (lowercase): 39384\n"
          ]
        }
      ],
      "source": [
        "## YOUR CODE HERE ##\n",
        "# Use PTB_FILES golab var\n",
        "# TEST: original orthography vocab size = ...10\n",
        "with open(PTB_FILES[\"train\"], \"r\") as f:\n",
        "    corpus = f.read().strip().split()\n",
        "  \n",
        "# Splits the token from POS\n",
        "tokens = [w.split(\"|\")[0] for w in corpus]\n",
        "pos = [w.split(\"|\")[1] for w in corpus]\n",
        "\n",
        "df = pd.DataFrame(list(zip(tokens, pos)), columns=[\"token\", \"pos\"])\n",
        "\n",
        "num_tokens = len(tokens)\n",
        "print(f\"Corpus size: {num_tokens}\")\n",
        "\n",
        "token_counts = Counter(tokens)\n",
        "\n",
        "vocab_orig_ortho = set(token_counts.keys())\n",
        "print(f\"Vocabulary size (original orthography): {len(vocab_orig_ortho)}\")\n",
        "\n",
        "vocab_lowercase = set(token.lower() for token in tokens)\n",
        "print(f\"Vocabulary size (lowercase): {len(vocab_lowercase)}\")\n"
      ]
    },
    {
      "cell_type": "markdown",
      "metadata": {
        "id": "G4F1hlWNvBpz"
      },
      "source": [
        "█████ YOUR ANSWER HERE █████\n",
        "\n",
        "1. Lowercasing all the tokens in the corpus helps reduce the size of the vocabulary and is one way of mitigating the sparsity problem in NLP tasks.\n",
        "\n",
        "2. A notable downside is that is can lead to the loss of important information that is conveyed by the capitalization of the words.\n",
        "\n",
        "3. - Adavantage: \"the\" and \"The\" would be considered as the same word with lowercasing.\n",
        "  - Disadvantage: \"apple\" (the fruit) and \"Apple\" (the company) have different meanings, but with lowercasing this distinction is gone. "
      ]
    },
    {
      "cell_type": "markdown",
      "metadata": {
        "id": "Wn1cBwu4vBp0"
      },
      "source": [
        "------\n",
        "**For the rest of this exercise <font color=\"red\">you should use the original orthography</font> of the data when answering the questions.**\n",
        "\n",
        "------"
      ]
    },
    {
      "cell_type": "markdown",
      "metadata": {
        "id": "1D1kQ1N_vBp1"
      },
      "source": [
        "### [Extra] \n",
        "\n",
        "Plot a graph of word frequency versus rank of a word, in this corpus. Does this corpus obey **Zipf’s law**? For a better picture you might need to make the plot horizontally wide or consider an initial cutoff of ranked words. "
      ]
    },
    {
      "cell_type": "code",
      "execution_count": 28,
      "metadata": {
        "id": "2A_By8MRvBp2",
        "scrolled": true,
        "colab": {
          "base_uri": "https://localhost:8080/",
          "height": 470
        },
        "outputId": "3cc71b0a-13d6-418b-81a7-8fe9954edef2"
      },
      "outputs": [
        {
          "output_type": "display_data",
          "data": {
            "text/plain": [
              "<Figure size 640x480 with 1 Axes>"
            ],
            "image/png": "[encoded data removed]"
          },
          "metadata": {}
        }
      ],
      "source": [
        "## YOUR CODE HERE ##\n",
        "ordered_tokens = token_counts.most_common()\n",
        "freq = [count for token, count in ordered_tokens]\n",
        "rank = list(range(1, len(ordered_tokens)+1))\n",
        "plt.plot(rank, freq)\n",
        "plt.xlabel(\"Rank\")\n",
        "plt.ylabel(\"Frequency\")\n",
        "plt.xlim(1,400)\n",
        "plt.title(\"Rank-frequency plot\")\n",
        "plt.show()"
      ]
    },
    {
      "cell_type": "markdown",
      "source": [
        "█████ YOUR ANSWER HERE █████\n",
        "\n",
        "The corpus obeys Zipf's law. The highest ~50 ranked words make up the vast majority of the corpus."
      ],
      "metadata": {
        "id": "4IKxQutFd-VM"
      }
    },
    {
      "cell_type": "markdown",
      "source": [
        "### (b) Tags & tokens [5pt]\n",
        "\n",
        "**Print** a list of the **10 most commonly occurring POS tags** in the data. For each of these POS tags, additionally **print** the **3 most common token types** (i.e., words) that belong to that tag. Print raw counts for each printed tag and token type."
      ],
      "metadata": {
        "id": "r1ZeD-QRwVvC"
      }
    },
    {
      "cell_type": "code",
      "execution_count": 29,
      "metadata": {
        "id": "LjWaeRNmvBp5",
        "colab": {
          "base_uri": "https://localhost:8080/"
        },
        "outputId": "59a8dfdc-48c9-43d1-f41b-cf89b35ae7f2"
      },
      "outputs": [
        {
          "output_type": "stream",
          "name": "stdout",
          "text": [
            "NN (132134): %(4866); company(2457); year(2220); \n",
            "IN (99413): of(22778); in(14852); for(7907); \n",
            "NNP (90711): Mr.(4147); U.S.(1577); Corp.(1186); \n",
            "DT (82147): the(40831); a(19151); The(6753); \n",
            "JJ (59643): new(1396); other(1298); last(990); \n",
            "NNS (59332): years(1164); shares(1128); sales(939); \n",
            ", (48314): ,(48310); an(1); 2(1); \n",
            ". (39252): .(38798); ?(392); !(62); \n",
            "CD (36148): million(4355); billion(1780); one(1203); \n",
            "RB (30232): n't(3211); also(1420); not(1287); \n"
          ]
        }
      ],
      "source": [
        "## YOUR CODE HERE ##\n",
        "# Use the following printing format and test your numbers for the DT pos tag:\n",
        "# DT (82147):\tthe(40831); a(19151); The(6753)\n",
        "\n",
        "most_common_pos = df[\"pos\"].value_counts(ascending=False)[:10]\n",
        "# Iterates through the most common POS\n",
        "for i, pos in enumerate(most_common_pos.index.tolist()):\n",
        "  df_pos = df[df[\"pos\"] == pos] # Get all tokens whose POS tag equals `pos`\n",
        "  token_count = df_pos[\"token\"].value_counts(ascending=False) # Count how many tokens occur for each word with that POS tag\n",
        "  print(f\"{pos} ({most_common_pos[i]}): \" , end=\"\")\n",
        "  for j, token in enumerate(token_count[:3].index.tolist()):\n",
        "    print(f\"{token}({token_count[:3][j]}); \", end=\"\")\n",
        "  print()\n"
      ]
    },
    {
      "cell_type": "markdown",
      "metadata": {
        "id": "sPTQVzwvvBp6"
      },
      "source": [
        "### (c) Ambiguity [10pt]\n",
        "\n",
        "A single token type (i.e. word) may occur with several POS tags. For example, *record* can be both a **noun** *(buy a record)* or a **verb** *(record a lecture)*. This makes POS tags extremely useful for **disambiguation**.\n",
        "\n",
        "**Print** the percentage(!) of the **ambiguous** words in the vocabulary(!) (i.e. token types that have more than one POS tag?).  \n",
        "\n",
        "Ambiguous words do not account for a great percentage of the vocabulary. Yet they are among the most commonly occurring words in the English language.  \n",
        "**Print** the percentage of the dataset that is ambiguous (i.e., counting tokens of ambiguous token types/words wrt data size).  \n",
        "(Don't round percentages when printing)\n",
        "\n",
        "**Print** the **10 most frequently shared POS tag pairs** (i.e. POS tag pairs that share most words).  \n",
        "**Print** the **4 most ambiguous** words (i.e. based on the number of POS tags it can get)"
      ]
    },
    {
      "cell_type": "code",
      "execution_count": 30,
      "metadata": {
        "id": "8qNODIAcvBp6",
        "scrolled": true,
        "colab": {
          "base_uri": "https://localhost:8080/"
        },
        "outputId": "015ac1b8-9c96-4f33-fccc-ded1a665deb2"
      },
      "outputs": [
        {
          "output_type": "stream",
          "name": "stdout",
          "text": [
            "Percentage of ambiguous words in the vocabulary: 13.469803211942999%\n",
            "Percentage of dataset that is ambiguous: 55.079005800643756%\n",
            "Top 10 confused tag pairs\n",
            "(VBD, VBN) share 1060 tokens\n",
            "(JJ, NN) share 962 tokens\n",
            "(VB, NN) share 775 tokens\n",
            "(VB, VBP) share 752 tokens\n",
            "(NN, NNP) share 627 tokens\n",
            "(JJ, VBN) share 456 tokens\n",
            "(VBP, NN) share 403 tokens\n",
            "(VBG, NN) share 378 tokens\n",
            "(NNS, VBZ) share 364 tokens\n",
            "(JJ, NNP) share 297 tokens\n",
            "Top 4 ambiguous tokens:\n",
            "many: [JJ, NN, RB, DT, PDT, VB, NP]\n",
            "down: [RB, RP, IN, JJ, RBR, VBP, NN]\n",
            "set: [VBN, NN, VBD, VB, VBP, JJ, VBZ]\n",
            "open: [VB, JJ, RP, RB, VBP, NN, VBZ]\n"
          ]
        }
      ],
      "source": [
        "## YOUR CODE HERE ##\n",
        "# TEST: There are 1060 tokens whose tokens get both ('VBD', 'VBN') tags\n",
        "# TEST: in other tokens, a set of tokens with VBD and a set of tokens with VBN share 1060 elements \n",
        "\n",
        "# print in the following way:\n",
        "# Print ambiguous tokens and tag pairs as, where tags are ordered alphabetically:\n",
        "# Top 10 confused tag pairs:\n",
        "#\t('VBD', 'VBN') share 1060 tokens \n",
        "#   ...\n",
        "# Top 4 ambiguous tokens:\n",
        "# \ttoken: [POS_1, ..., POS_n]\n",
        "#   ...\n",
        "\n",
        "import itertools\n",
        "\n",
        "df_ambiguous = df.groupby(\"token\")[\"pos\"].unique().reset_index() # Combine the POS tags for tokens of the same word into a list\n",
        "df_ambiguous = df_ambiguous[df_ambiguous[\"pos\"].str.len() > 1] # Keep only the rows where there is more than one POS tag for the word\n",
        "df_ambiguous_tokens = df[df[\"token\"].isin(df_ambiguous[\"token\"])] # Get all tokens that belong to an ambiguous word\n",
        "print(f\"Percentage of ambiguous words in the vocabulary: {len(df_ambiguous) / len(df['token'].unique()) * 100}%\")\n",
        "print(f\"Percentage of dataset that is ambiguous: {len(df_ambiguous_tokens) / len(df) * 100}%\")\n",
        "\n",
        "pos_pairs = itertools.combinations(df[\"pos\"].unique().tolist(), 2) # Get all POS tag pairs\n",
        "pos_pairs = dict.fromkeys(map(lambda x: frozenset(x), pos_pairs), 0) # Create a dict from the pairs. Turn them into a frozenset to be able to use the pair as key\n",
        "# For each POS pair, check the POS tag list of each word to see if the POS pair is included in the list and count how many there are\n",
        "for pair in pos_pairs:\n",
        "  mask = df_ambiguous['pos'].apply(lambda x: frozenset.intersection(pair, x) == pair)\n",
        "  filtered_df = df_ambiguous[mask]\n",
        "  pos_pairs[pair] = len(filtered_df) \n",
        "\n",
        "print(f\"Top 10 confused tag pairs\")\n",
        "for pair, count in Counter(pos_pairs).most_common(10):\n",
        "  print(f\"({', '.join(list(pair))}) share {count} tokens\")\n",
        "\n",
        "print(\"Top 4 ambiguous tokens:\")\n",
        "for row in df_ambiguous.sort_values(by=\"pos\", key=lambda x: x.str.len(), ascending=False)[:4].itertuples():\n",
        "  print(f\"{row.token}: [{', '.join(row.pos)}]\")"
      ]
    },
    {
      "cell_type": "markdown",
      "metadata": {
        "id": "AODJl38yvBp7"
      },
      "source": [
        "### (d) Explain [10pt]\n",
        "\n",
        "**Take one** of the 4 most ambiguous tokens and for **each** of its possible POS tags **give** a sentence/phrase that shows the use of the token with its POS tag.  \n",
        "For the other **three** tokens, **discuss one** POS tag that is most unlikely for the corresponding token.      \n",
        "Consult [Figure 8.2](https://web.stanford.edu/~jurafsky/slp3/8.pdf#page=4) for the interpretation of the POS tags. If you would like a more detailed explanation of the POS tags, consult [this technical report](https://repository.upenn.edu/cgi/viewcontent.cgi?article=1246&context=cis_reports). Of course, you don't need to read it properly, just use it to search for certain POS tags in it."
      ]
    },
    {
      "cell_type": "markdown",
      "source": [
        "█████ YOUR ANSWER HERE █████\n",
        "\n",
        "set: \n",
        "  - NN: {} is the empty set.\n",
        "  - VBP: I set the mug on the table.\n",
        "  - VB: I will set the mug on the table.\n",
        "  - JJ: The mug costs a set price.\n",
        "  - VBZ: not possible\n",
        "  - VBD: Yesterday, I set the mug on the table.\n",
        "  - VBN: Yesterday, I have set the mug on the table.\n",
        "\n",
        "many: VB is most unlikely, as many cannot be a verb.\n",
        "down: RBR is most unlikely, as \"down\" itself is not a comparative adverb\n",
        "open: VBZ, as 3rd person singular present is \"opens\""
      ],
      "metadata": {
        "id": "c18r5YJM7xDG"
      }
    },
    {
      "cell_type": "markdown",
      "metadata": {
        "id": "s9fwBwWBrYZ3"
      },
      "source": [
        "## Ex 1.2 [10pt] \n",
        "\n",
        "You are also provided with another file called **sec00.gold.tagged**. \n",
        "Section 00 of the Penn Treebank is typically used as development data."
      ]
    },
    {
      "cell_type": "markdown",
      "metadata": {
        "id": "j1GVBPzvvBp9"
      },
      "source": [
        "### (a) Unseen % [5pt]\n",
        "\n",
        "**Print** the percentages of the **unseen development vocabulary** and **unseen development data** (i.e., token types and tokens that occur in the development data but not in the training data). Percentages should be calculated wrt the development vocabulary/data size and they shouldn't be rounded."
      ]
    },
    {
      "cell_type": "code",
      "execution_count": 31,
      "metadata": {
        "id": "o7Fjx4q9vBp9",
        "scrolled": false,
        "colab": {
          "base_uri": "https://localhost:8080/"
        },
        "outputId": "04a39742-ea46-485c-e608-c8fd3cd96a77"
      },
      "outputs": [
        {
          "output_type": "stream",
          "name": "stdout",
          "text": [
            "Unseen development vocabulary percentage: 16.35%\n",
            "Unseen development data percentage: 3.80%\n"
          ]
        }
      ],
      "source": [
        "## YOUR CODE HERE ##\n",
        "# Use PTB_FILES global var\n",
        "# TEST: Difference between the %age is in interval 11-14%\n",
        "with open(PTB_FILES[\"dev\"], \"r\") as f:\n",
        "    corpus_dev = f.read().strip().split()\n",
        "  \n",
        "# Split the token from POS\n",
        "tokens_dev = [w.split(\"|\")[0] for w in corpus_dev]\n",
        "pos_dev = [w.split(\"|\")[1] for w in corpus_dev]\n",
        "\n",
        "df_dev = pd.DataFrame(list(zip(tokens_dev, pos_dev)), columns=[\"token\", \"pos\"])\n",
        "\n",
        "# create sets of the unique tokens in the training and development sets\n",
        "train_tokens = set(df['token'])\n",
        "dev_tokens = set(df_dev['token'])\n",
        "\n",
        "# calculate the sizes of the training and development sets\n",
        "train_size = len(train_tokens)\n",
        "dev_size = len(dev_tokens)\n",
        "\n",
        "# find the tokens that are unique to the development set\n",
        "dev_unseen_tokens = dev_tokens - train_tokens\n",
        "\n",
        "# calculate the percentages of the unseen development vocabulary and data\n",
        "dev_unseen_vocab_percent = len(dev_unseen_tokens) / dev_size * 100\n",
        "dev_unseen_data_percent = len(df_dev[~df_dev['token'].isin(train_tokens)]) / len(df_dev) * 100\n",
        "\n",
        "# print the results\n",
        "print(f\"Unseen development vocabulary percentage: {dev_unseen_vocab_percent:.2f}%\")\n",
        "print(f\"Unseen development data percentage: {dev_unseen_data_percent:.2f}%\")\n"
      ]
    },
    {
      "cell_type": "markdown",
      "metadata": {
        "id": "sWXDWzuxvBp-"
      },
      "source": [
        "### (b) Unseen tok tag [5pt]\n",
        "\n",
        "**Print** the top **five** POS tags that the most **unseen tokens** belong to."
      ]
    },
    {
      "cell_type": "code",
      "execution_count": 32,
      "metadata": {
        "id": "VgbUb8nHvBp-",
        "scrolled": true,
        "colab": {
          "base_uri": "https://localhost:8080/"
        },
        "outputId": "82e12042-cfb7-475e-8abc-58352d0dc0a0"
      },
      "outputs": [
        {
          "output_type": "stream",
          "name": "stdout",
          "text": [
            "815 NNP\n",
            "258 JJ\n",
            "210 NN\n",
            "146 NNS\n",
            "114 CD\n"
          ]
        }
      ],
      "source": [
        "## YOUR CODE HERE ##\n",
        "# Print in the following format and test your number for NNS:\n",
        "# 146\tNNS\n",
        "\n",
        "unseen_tokens = df_dev[~df_dev[\"token\"].isin(df[\"token\"].unique())]\n",
        "unseen_tokens_pos = unseen_tokens.groupby(\"pos\").count().reset_index().sort_values(\"token\", ascending=False).head(5)\n",
        "for row in unseen_tokens_pos.itertuples():\n",
        "  print(f\"{row.token} {row.pos}\")"
      ]
    },
    {
      "cell_type": "markdown",
      "source": [
        "# 2. Language Models"
      ],
      "metadata": {
        "id": "6cbdG9BsdRdh"
      }
    },
    {
      "cell_type": "markdown",
      "metadata": {
        "id": "jECmv9_BvBp-"
      },
      "source": [
        "\n",
        "\n",
        "The following questions presuppose J&M's [chapter 3 on n-gram language models](https://web.stanford.edu/~jurafsky/slp3/3.pdf).\n",
        "\n",
        "Models that assign **probabilities** to **sequences of words** are called **language\n",
        "models** or **LMs**. The simplest model that assigns probabilities to sentences and sequences of words is the **N-gram** model.\n",
        "\n",
        "Recall that an *N*-gram language model uses **conditional probabilities** of the form\n",
        "    \n",
        "$$P(w_k \\mid w_{k-N+1} \\dots w_{k-1})$$\n",
        "\n",
        "to **approximate** the full **joint probability**\n",
        "\n",
        "$$P(w_1 \\dots w_n)$$\n",
        "\n",
        "of a sequence of words $w_1 \\dots w_n$.\n",
        "\n",
        "The easiest way of obtaining estimates for the probabilities $P(w_k \\mid w_{k-N+1} \\dots w_{k-1})$ is to use the **maximum likelihood estimate** or **MLE**, a widely used statistical estimation method ([read more](https://en.wikipedia.org/wiki/Maximum_likelihood_estimation)). You count and normalize:\n",
        "\n",
        "$$P_{MLE}(w_k \\mid w_{k-N+1} \\dots w_{k-1}) = \\frac{C(w_{k-N+1} \\dots w_{k-1} w_k)}{C(w_{k-N+1} \\dots w_{k-1})}.$$"
      ]
    },
    {
      "cell_type": "markdown",
      "source": [
        "## Ex 2.1 [25pt] \n",
        "\n",
        "In this exercise you will have to train $N$-gram language models with an optional smoothing."
      ],
      "metadata": {
        "id": "zJJRUQLpQIYN"
      }
    },
    {
      "cell_type": "markdown",
      "source": [
        "#### Some help\n",
        "\n",
        "The `collections` library has another useful data structure: the `defaultdict`. Some example uses (learn more [here](https://realpython.com/python-defaultdict/) if needed):"
      ],
      "metadata": {
        "id": "Em9s4OTHfYda"
      }
    },
    {
      "cell_type": "markdown",
      "metadata": {
        "id": "Uy6bNZpedd4a"
      },
      "source": [
        "**[Datastructure hint]** If you store the smoothed language in a naive manner (that is, to store *all* the numbers separately) your datastructure will get huge! If $V$ is the vocabulary then the smoothed bigram model assigns probabilities to $|V|^2$ entries. If $|V|$ is around 80k, the naive way requires you to store more than 64 billion floats. Yet almost all of these are actually just $P(w_n|w_{n-1}) = \\frac{k}{N + k|V|}$, with $k$ the value with which you smooth and $N=C(w_{n-1})$. Think about how you use this fact to make your model work in practice."
      ]
    },
    {
      "cell_type": "code",
      "execution_count": 33,
      "metadata": {
        "id": "NEzYDa-GvBp_",
        "colab": {
          "base_uri": "https://localhost:8080/"
        },
        "outputId": "40333e34-7ae9-40d5-d7e9-80e7d82ab037"
      },
      "outputs": [
        {
          "output_type": "execute_result",
          "data": {
            "text/plain": [
              "0.0"
            ]
          },
          "metadata": {},
          "execution_count": 33
        }
      ],
      "source": [
        "from collections import defaultdict\n",
        "\n",
        "d = defaultdict(float)\n",
        "d[\"new key\"]"
      ]
    },
    {
      "cell_type": "markdown",
      "metadata": {
        "id": "80cGhiN7vBp_"
      },
      "source": [
        "Compare that to an ordinary dictionary:"
      ]
    },
    {
      "cell_type": "code",
      "execution_count": 34,
      "metadata": {
        "id": "hwPC-F7VvBqA"
      },
      "outputs": [],
      "source": [
        "# d = dict()\n",
        "# d[\"new key\"]\n",
        "# Throws an KeyError: 'new key'"
      ]
    },
    {
      "cell_type": "markdown",
      "metadata": {
        "id": "XhC9fVSBvBqA"
      },
      "source": [
        "Other datatypes as `default_factory`:"
      ]
    },
    {
      "cell_type": "code",
      "execution_count": 35,
      "metadata": {
        "id": "ANtXMfCDvBqB",
        "colab": {
          "base_uri": "https://localhost:8080/"
        },
        "outputId": "dc0b60d1-4f49-4ee7-a5e1-65ede38bdb8f"
      },
      "outputs": [
        {
          "output_type": "stream",
          "name": "stdout",
          "text": [
            "defaultdict(<class 'int'>, {})\n",
            "0\n",
            "defaultdict(<class 'int'>, {'new key': 0})\n"
          ]
        }
      ],
      "source": [
        "d = defaultdict(int)\n",
        "print(d)\n",
        "print(d[\"new key\"])\n",
        "print(d)"
      ]
    },
    {
      "cell_type": "code",
      "execution_count": 36,
      "metadata": {
        "id": "gHIBoHbrvBqB",
        "colab": {
          "base_uri": "https://localhost:8080/"
        },
        "outputId": "f57f4162-b46e-4558-a89f-9f37316b7cfd"
      },
      "outputs": [
        {
          "output_type": "stream",
          "name": "stdout",
          "text": [
            "defaultdict(<class 'list'>, {})\n",
            "[]\n",
            "defaultdict(<class 'list'>, {'new key': []})\n"
          ]
        }
      ],
      "source": [
        "d = defaultdict(list)\n",
        "print(d)\n",
        "print(d[\"new key\"])\n",
        "print(d)"
      ]
    },
    {
      "cell_type": "markdown",
      "source": [
        "Note how the defaultdict is modified after getting a value of a non-existing key. If you want to avoid modifying the defaultdict when getting a value for a non-existing key, do the following:"
      ],
      "metadata": {
        "id": "9Obc7SPcRwB9"
      }
    },
    {
      "cell_type": "code",
      "source": [
        "d = defaultdict(list)\n",
        "print(d)\n",
        "print(d.get(\"new key\", d.default_factory()))\n",
        "print(d)"
      ],
      "metadata": {
        "id": "Z9YsnMXZRwIR",
        "colab": {
          "base_uri": "https://localhost:8080/"
        },
        "outputId": "7b6fdbce-98b4-4cde-a2a7-5680d11d3618"
      },
      "execution_count": 37,
      "outputs": [
        {
          "output_type": "stream",
          "name": "stdout",
          "text": [
            "defaultdict(<class 'list'>, {})\n",
            "[]\n",
            "defaultdict(<class 'list'>, {})\n"
          ]
        }
      ]
    },
    {
      "cell_type": "markdown",
      "metadata": {
        "id": "ReMovWEyvBqC"
      },
      "source": [
        "Converting an already existing `dict`:"
      ]
    },
    {
      "cell_type": "code",
      "execution_count": 38,
      "metadata": {
        "id": "eO-PZAXyvBqC",
        "colab": {
          "base_uri": "https://localhost:8080/"
        },
        "outputId": "d65d3501-9a29-4f53-d6e9-f8465096a38b"
      },
      "outputs": [
        {
          "output_type": "stream",
          "name": "stdout",
          "text": [
            "value\n",
            "0.0\n"
          ]
        }
      ],
      "source": [
        "d1 = {k: \"value\" for k in range(1, 11)}\n",
        "d = defaultdict(float, d1) # convert it to a defaultdict\n",
        "print(d[5])\n",
        "print(d[100])"
      ]
    },
    {
      "cell_type": "markdown",
      "metadata": {
        "id": "Qup8dlervBqC"
      },
      "source": [
        "This doesn't work:"
      ]
    },
    {
      "cell_type": "code",
      "execution_count": 39,
      "metadata": {
        "id": "vFdSoDb9vBqD"
      },
      "outputs": [],
      "source": [
        "# d = defaultdict(10)\n",
        "# Throws a TypeError: first argument must be callable or None"
      ]
    },
    {
      "cell_type": "markdown",
      "metadata": {
        "id": "WN4bK1eGvBqD"
      },
      "source": [
        "Use a `lambda` to make the number `10` `callable`\":"
      ]
    },
    {
      "cell_type": "code",
      "execution_count": 40,
      "metadata": {
        "id": "BS8vozeYvBqD",
        "colab": {
          "base_uri": "https://localhost:8080/"
        },
        "outputId": "87d7698f-35bc-44b9-cd54-761e34691253"
      },
      "outputs": [
        {
          "output_type": "stream",
          "name": "stdout",
          "text": [
            "defaultdict(<function <lambda> at 0x7f38ffba1ee0>, {})\n",
            "10\n",
            "defaultdict(<function <lambda> at 0x7f38ffba1ee0>, {'new key': 10})\n"
          ]
        }
      ],
      "source": [
        "d = defaultdict(lambda: 10)\n",
        "print(d)\n",
        "print(d[\"new key\"])\n",
        "print(d)"
      ]
    },
    {
      "cell_type": "code",
      "execution_count": 41,
      "metadata": {
        "id": "vegtS6wJvBqE",
        "colab": {
          "base_uri": "https://localhost:8080/"
        },
        "outputId": "85d44164-59c4-4847-ed0f-1f6041b4ed5d"
      },
      "outputs": [
        {
          "output_type": "stream",
          "name": "stdout",
          "text": [
            "defaultdict(<function <lambda> at 0x7f38ffba3160>, {})\n",
            "defaultdict(<class 'float'>, {})\n",
            "defaultdict(<function <lambda> at 0x7f38ffba3160>, {'new key': defaultdict(<class 'float'>, {})})\n"
          ]
        }
      ],
      "source": [
        "d = defaultdict(lambda: defaultdict(float))\n",
        "print(d)\n",
        "print(d[\"new key\"])\n",
        "print(d)"
      ]
    },
    {
      "cell_type": "markdown",
      "source": [
        "Note that in some cases the behaviour of lambda functions might be counterintuitive. One of such cases is the closure: [link1](https://realpython.com/python-lambda/#closure), [link2](https://stackoverflow.com/questions/2295290/what-do-lambda-function-closures-capture)."
      ],
      "metadata": {
        "id": "ThZCgTQTo4KJ"
      }
    },
    {
      "cell_type": "code",
      "source": [
        "# making a shortcut for the read-only get for defaultdict that supports several keys\n",
        "# i.e. defget(d, [k1, k2]) will return the value of d[k1][k2] without altering d \n",
        "def defget(d, keys):\n",
        "    for k in keys:\n",
        "        d = d.get(k, d.default_factory())\n",
        "    return d\n",
        "\n",
        "# testing if it works as intended\n",
        "d = defaultdict(lambda: defaultdict(int))\n",
        "d[1][1] = 2\n",
        "d[2][1] = 3\n",
        "print(d) \n",
        "print(defget(d, [1, 1]))\n",
        "print(defget(d, [3]))\n",
        "print(defget(d, [3, 1]))\n",
        "print(d)"
      ],
      "metadata": {
        "id": "NKYpXbk2cEw2",
        "colab": {
          "base_uri": "https://localhost:8080/"
        },
        "outputId": "0de04e29-e702-474d-8dc2-e8c69e10bb5d"
      },
      "execution_count": 42,
      "outputs": [
        {
          "output_type": "stream",
          "name": "stdout",
          "text": [
            "defaultdict(<function <lambda> at 0x7f38ff3f2d30>, {1: defaultdict(<class 'int'>, {1: 2}), 2: defaultdict(<class 'int'>, {1: 3})})\n",
            "2\n",
            "defaultdict(<class 'int'>, {})\n",
            "0\n",
            "defaultdict(<function <lambda> at 0x7f38ff3f2d30>, {1: defaultdict(<class 'int'>, {1: 2}), 2: defaultdict(<class 'int'>, {1: 3})})\n"
          ]
        }
      ]
    },
    {
      "cell_type": "markdown",
      "metadata": {
        "id": "6WYXdmJXvBqE"
      },
      "source": [
        "Clever use of a `defaultdict` can be the solution to the problem of data-storing in a smoothing $N$-gram pointed out above:\n",
        "    \n",
        "    d = bigram_frequencies[history] = {w1: 120, w2: 340, w3: 7 ...}\n",
        "    N = sum(d.values())\n",
        "    # d_normalized = .... # normalize d with smoothing applied to elements already in the dictionary  \n",
        "    d_smoothed = defaultdict(lambda: k/(N + kV), d_normalized) # add smoothing to 'unseen' words"
      ]
    },
    {
      "cell_type": "markdown",
      "metadata": {
        "id": "5svCtCyDvBqE"
      },
      "source": [
        "The following function is given to assist you with reading the data from the file in a convenient format. Understand how the function works and figure out how to use it for training n-grams."
      ]
    },
    {
      "cell_type": "code",
      "execution_count": 43,
      "metadata": {
        "id": "1DnP4YcPvBqF"
      },
      "outputs": [],
      "source": [
        "def read_data(fname, h=1, max_lines=np.inf): \n",
        "    \"\"\"\n",
        "    Reads in the data from a file and returns a vocabulary as a set\n",
        "    and the sentence-padded data as a list of list. \n",
        "    \n",
        "    :param fname: path to the file\n",
        "    :param max_lines: the number of top lines to read (can be used for debugging)\n",
        "    :param h: the length of n-gram history\n",
        "    :returns: data as a list of lists and vocabulary as a set    \n",
        "    \"\"\"\n",
        "    data = []\n",
        "    start = h * [\"<s>\"]\n",
        "    end = [\"</s>\"]\n",
        "    vocab = set()\n",
        "    \n",
        "    with open(fname, \"r\") as F:\n",
        "        for k, line in enumerate(F):\n",
        "            # an optional cut-off to read a part of the data\n",
        "            if k > max_lines:\n",
        "                break\n",
        "            words = line.strip().split()\n",
        "            vocab.update(words)\n",
        "            # padding the sentence             \n",
        "            sent = start + words + end\n",
        "            data.append(sent)\n",
        "\n",
        "    return data, vocab"
      ]
    },
    {
      "cell_type": "markdown",
      "source": [
        "### train_ngram\n",
        "\n",
        "[15pt] **Complete** the function `train_ngram` so that you can train a count-based $N$-gram language model on the data found in `data/ted-train.txt` and train this for $N=2,3,4$. \n",
        "\n",
        "[10pt] **Extend** the function `train_ngram` so that it accepts a parameter `k` for optional add-$k$ smoothing (upgrade the same function, don't define new). "
      ],
      "metadata": {
        "id": "3dy2LfV1m3Vg"
      }
    },
    {
      "cell_type": "code",
      "source": [
        "from collections import defaultdict, Counter"
      ],
      "metadata": {
        "id": "rrddmakLDoEh"
      },
      "execution_count": 44,
      "outputs": []
    },
    {
      "cell_type": "code",
      "execution_count": 47,
      "metadata": {
        "id": "UCTtBMxWvBqF"
      },
      "outputs": [],
      "source": [
        "def train_ngram(data, N=2, k=0):\n",
        "    \"\"\"\n",
        "    Trains an n-gram language model with optional add-k smoothing\n",
        "    and additionally returns the unigram model\n",
        "    \n",
        "    :param data: text-data as returned by the pre-defined function read_data\n",
        "    :param N: (N>1) the order of the ngram e.g. N=2 gives a bigram\n",
        "    :param k: optional add-k smoothing\n",
        "    :returns: ngram and unigram\n",
        "    \"\"\"\n",
        "    ngram = defaultdict(Counter) # ngram[history][word] = #(history,word)\n",
        "    # for history of length >1, join tokens with a singel white space (see tests below)\n",
        "\n",
        "    ## YOUR CODE HERE ##\n",
        "    ## you can have auxiliary functions if needed, inside of outside this function's scope\n",
        "    tokens = data.split()\n",
        "\n",
        "    # generate ngram\n",
        "    for i in range(len(tokens) - N + 1):\n",
        "      history, word = tuple(tokens[i:i+N-1]), tokens[i+N-1]\n",
        "      ngram[\" \".join(history)][word] += 1\n",
        "\n",
        "    # the following line might be useful and its use is optional\n",
        "    # unigram = defaultdict(float, Counter(\"SOME VAR HERE\")) # default prob is 0.0        \n",
        "\n",
        "    # generate unigram from ngram\n",
        "    unigram = defaultdict(float, Counter([word for sublist in ngram.values() for word in sublist]))\n",
        "\n",
        "    if k > 0:\n",
        "      vocabulary_size = len(unigram)\n",
        "      for history in ngram:\n",
        "        for word in unigram:\n",
        "          ngram[history][word] += k\n",
        "        \n",
        "        # Normalize probabilities\n",
        "        total = float(sum(ngram[history].values()))\n",
        "        for word in ngram[history]:\n",
        "          ngram[history][word] /= total\n",
        "\n",
        "        # Normalize unigram probabilities\n",
        "        total = float(sum(unigram.values()))\n",
        "        for word in unigram:\n",
        "          unigram[word] = (unigram[word] + k) / (total + k * vocabulary_size)    \n",
        "    return ngram, unigram"
      ]
    },
    {
      "cell_type": "code",
      "execution_count": null,
      "metadata": {
        "id": "Scw9yzDYc91M"
      },
      "outputs": [],
      "source": [
        "# shouldn't take more than 2min\n",
        "Data1, vocab = None, None ## YOUR CODE HERE ##\n",
        "# use the global variable for the file path\n",
        "with open(TED_FILES[\"train\"], \"r\") as f:\n",
        "  Data1 = f.read()\n",
        "\n",
        "vocab = set(Data1.split())\n",
        "\n",
        "# non-smoothed bigram\n",
        "Bigram, Unigram = train_ngram(Data1, N=2, k=0)\n",
        "# smoothed bigram\n",
        "Bigram_sm, Unigram_sm = train_ngram(Data1, N=2, k=1)"
      ]
    },
    {
      "cell_type": "code",
      "execution_count": null,
      "metadata": {
        "id": "CsS5hpWQvBqH"
      },
      "outputs": [],
      "source": [
        "# might take significant amount of memory\n",
        "# shouldn't take more than 3min\n",
        "Data2, vocab = None, None ## YOUR CODE HERE ##\n",
        "\n",
        "# non-smoothed trigram\n",
        "Trigram, Unigram_ = train_ngram(Data2, N=3, k=0)\n",
        "# smoothed trigram\n",
        "Trigram_sm, Unigram_sm_ = train_ngram(Data2, N=3, k=1)"
      ]
    },
    {
      "cell_type": "code",
      "execution_count": null,
      "metadata": {
        "id": "2TVjxsuyc91N"
      },
      "outputs": [],
      "source": [
        "#TEST 2.1 \n",
        "#!!! be aware that when getting a value of a non-existing key from defaultdict with d[key] method, \n",
        "# the key gets inserted into the defaultdict. That's why tests uses defget\n",
        "assert defget(Bigram, ['all','people']) > 0\n",
        "assert defget(Bigram, ['all','all']) == 0\n",
        "assert defget(Bigram_sm, ['all','all']) == defget(Bigram_sm, ['all','asdasda'])\n",
        "assert defget(Bigram_sm, ['all','asdasda']) > 0\n",
        "assert defget(Trigram, ['<s> <s>','The']) > 0\n",
        "assert defget(Trigram, ['<s> <s>','sun']) == 0\n",
        "assert np.isclose(sum(Trigram['All the'].values()), 1) #almost 1, but not 1 because of float point rounding\n",
        "assert defget(Trigram_sm, ['<s> <s>','sun']) > 0\n",
        "assert Unigram == Unigram_\n",
        "assert Unigram_sm == Unigram_sm_"
      ]
    },
    {
      "cell_type": "markdown",
      "metadata": {
        "id": "uHqoEt2zvBqJ"
      },
      "source": [
        "## Ex 2.2 [5pt]\n",
        "\n",
        "You can use an *N*-gram language model to **generate text**. The higher the order *N* the better your model will be able to catch the long-range dependencies that occur in actual sentences and the better your chances are at generating sensible text. But beware: **sparsity** of language data will quickly cause your model to reproduce entire lines from your training data; in such cases, only one $w_k$ was observed for the histories $w_{k-N+1}\\dots w_{k-1}$ in the entire training set."
      ]
    },
    {
      "cell_type": "markdown",
      "source": [
        "### Some help\n",
        "\n",
        "**[Hint]** You can use the method of [inverse transform sampling](https://en.wikipedia.org/wiki/Inverse_transform_sampling) to generate a sample from a **categorical distribution**, $p_1\\dots p_k$ such that $p_i \\geq 0$ and $\\sum_{i=1}^k p_i = 1$, as follows:"
      ],
      "metadata": {
        "id": "YbOqa3y5hefa"
      }
    },
    {
      "cell_type": "code",
      "execution_count": null,
      "metadata": {
        "id": "fman6WFYvBqJ"
      },
      "outputs": [],
      "source": [
        "import random\n",
        "\n",
        "P = [0.2,0.5,0.2,0.1]\n",
        "\n",
        "def sample(P):\n",
        "    u = random.random() # random number between 0 and 1\n",
        "    p = 0\n",
        "    for i, p_i in enumerate(P):\n",
        "        p += p_i\n",
        "        if p > u: \n",
        "            return i # the first i s.t. p1 + ... + pi > u\n",
        "        \n",
        "print(sample(P))\n",
        "\n",
        "print(Counter([sample(P) for i in range(1000)])) # check to see if the law of large numbers is still true"
      ]
    },
    {
      "cell_type": "markdown",
      "metadata": {
        "id": "jZBZ2mxTvBqK"
      },
      "source": [
        "Inverse transform sampling in the words of Jurafsky and Martin:\n",
        "\n",
        "> Imagine all the words of the English language covering the probability space\n",
        "between 0 and 1, each word covering an interval proportional to its frequency. We\n",
        "choose a random value between 0 and 1 and print the word whose interval includes\n",
        "this chosen value.\n",
        "\n",
        "(J&M, [section 3.3](https://web.stanford.edu/~jurafsky/slp3/3.pdf#page=10))"
      ]
    },
    {
      "cell_type": "markdown",
      "source": [
        "### generate_sent\n",
        "\n",
        "**Complete** the function `generate_sent`. It takes a language model `lm` and an order `N` and should generate a natural language string(!) (it might not be a grammatical sentence) by **sampling** from the language model."
      ],
      "metadata": {
        "id": "hQiNLmMQhO9q"
      }
    },
    {
      "cell_type": "code",
      "execution_count": null,
      "metadata": {
        "id": "MCD2ezj_vBqK"
      },
      "outputs": [],
      "source": [
        "def generate_sent(lm, N):\n",
        "    \"\"\"\n",
        "    Generates sentence from a language model based on N-grams\n",
        "    :param lm: language model based on N-grams\n",
        "    :param N: denoting N-gram parameter\n",
        "    :returns: a string of natural language tokens where tokens are separated with a space\n",
        "    \"\"\"\n",
        "    \n",
        "    ## YOUR CODE HERE ##\n",
        "    ## you can have auxiliary functions if needed, inside of outside this function's scope\n",
        "\n",
        "\n",
        "    \n",
        "    raise NotImplementedError(\"Function not implemented yet\")"
      ]
    },
    {
      "cell_type": "code",
      "execution_count": null,
      "metadata": {
        "id": "D0yKCR2xvBqL"
      },
      "outputs": [],
      "source": [
        "#TEST Ex2.2\n",
        "random.seed(42) #uncommnet if you want to make the output non-deterministic\n",
        "\n",
        "print(\"Bigram:\\n\")\n",
        "print(\"\\n\".join([generate_sent(Bigram, 2) for _ in range(5)]))\n",
        "\n",
        "print(\"\\nTrigram:\\n\")\n",
        "print(\"\\n\".join([generate_sent(Trigram, 3) for _ in range(5)]))"
      ]
    },
    {
      "cell_type": "markdown",
      "metadata": {
        "id": "mPmwIHiqvBqL"
      },
      "source": [
        "### [Extra]\n",
        "No points for this\n",
        "\n",
        "For how many of the histories $w_{k-N+1}\\dots w_{k-1}$ is the number of continuations $w_n$ equal to **one**? Calculate the percentage of such cases for the different orders *N*.\n",
        "\n",
        "And which history has the **most possible continuations**?"
      ]
    },
    {
      "cell_type": "code",
      "execution_count": null,
      "metadata": {
        "id": "aYGPyRyRc91S"
      },
      "outputs": [],
      "source": [
        "## YOUR CODE HERE ##"
      ]
    },
    {
      "cell_type": "markdown",
      "metadata": {
        "id": "mmREq7Zhc91S"
      },
      "source": [
        "YOUR ANSWER HERE"
      ]
    },
    {
      "cell_type": "markdown",
      "metadata": {
        "id": "NDjAQzkkvBqM"
      },
      "source": [
        "## Ex 2.3 Smoothing effect [5pt]\n",
        "\n",
        "Let $V$ denote our vocabulary. Recall that for any $w \\in V$ `bigram[w]` defines a conditional probability $p(v|w)$ over $v$ in $V$. In the case of an **unsmoothed bigram**, $p(v|w) = 0$ for most $v\\in V$, whereas in the **smoothed bigram** smoothing took care that $p(v|w) > 0$ for *all* $v$.\n",
        "\n",
        "The function `plot_bigram_dist(word, bigram, smoothbigram, k=30)` plots $p(v|word)$ for the `k` and words $v$. One bar shows the probabilities in `bigram` and one in `smoothbigram`. \n",
        "\n",
        "1. Use `plot_bigram_dist` to plot the bigram distributions for two contrasting words $w_1$ and $w_2$, i.e., the distributions of $p(v|w_1)$ and $p(v|w_2)$. Adjust the cut-off `n` parameter for better visualization.\n",
        "\n",
        "2. **Compare** the effect of `k=1` smoothing on the bigram distributions of the frequent $w_1$ and infrequent $w_2$ words. Give an informative insight instead of literally describing the plots. \n",
        "\n",
        "3. Now plot the same distributions but with $k$ being much smaller than 1 (but greater than 0!). **Explain and contrast** how the value of $k$ affects the distributions of the frequent $w_1$ and infrequent $w_2$ words.\n",
        "\n",
        "\n",
        "**[Hint]** Remember that add-1 smoothing turns \n",
        "$$P(w_n\\mid w_{n-1}) = \\frac{C(w_{n-1}w_{n})}{C(w_{n-1})}$$\n",
        "into\n",
        "$$P_{add-1}(w_n\\mid w_{n-1}) = \\frac{C(w_{n-1}w_{n}) + 1}{C(w_{n-1}) + |V|}.$$"
      ]
    },
    {
      "cell_type": "code",
      "execution_count": null,
      "metadata": {
        "id": "A7RiiRRxvBqM"
      },
      "outputs": [],
      "source": [
        "import pandas as pd\n",
        "import seaborn as sns    \n",
        "\n",
        "def plot_bigram_dist(word, bigram, smoothbigram, n=30):\n",
        "    d = bigram[word]\n",
        "    #print(type(d))\n",
        "    ds = smoothbigram[word]\n",
        "    \n",
        "    # sort the probabilities\n",
        "    d_sort = sorted(d.items(), reverse=True, key=lambda t: t[1])[0:n]\n",
        "    ds_sort = sorted(ds.items(), reverse=True, key=lambda t: t[1])[0:n]\n",
        "    \n",
        "    _, probs = zip(*d_sort)\n",
        "    smooth_ws, smooth_probs = zip(*ds_sort)\n",
        "    \n",
        "    # make up for the fact that in the unsmoothed case non-0 probs is generally less than n long\n",
        "    probs = probs + (0,) * (n-len(probs)) \n",
        "\n",
        "    w_data = pd.DataFrame({f\"{word}\": smooth_ws * 2,\n",
        "                           f\"P(w|{word})\": probs + smooth_probs,\n",
        "                           \"smoothing\": [\"unsmoothed\"]*n + [\"smoothed\"]*n})\n",
        "    \n",
        "    fig, ax = plt.subplots(figsize=(10,10))\n",
        "    plt.xticks(rotation=90)\n",
        "    g = sns.barplot(ax=ax, x=f\"{word}\", y=f\"P(w|{word})\", hue=\"smoothing\",\n",
        "                    data=w_data, palette=\"Blues_d\")    "
      ]
    },
    {
      "cell_type": "code",
      "execution_count": null,
      "metadata": {
        "id": "rKH3i7FTvBqN"
      },
      "outputs": [],
      "source": [
        "# Use these variables\n",
        "Freq_word, Infreq_word = None, None\n",
        "\n",
        "## YOUR CODE HERE ##\n"
      ]
    },
    {
      "cell_type": "code",
      "execution_count": null,
      "metadata": {
        "id": "48XochmkvBqO"
      },
      "outputs": [],
      "source": [
        "# Use this K value and reuse Freq_word, Infreq_word\n",
        "Small_k = 0.01\n",
        "\n"
      ]
    },
    {
      "cell_type": "markdown",
      "metadata": {
        "id": "hN2uU1PxvBqN"
      },
      "source": [
        "█████ YOUR ANSWER HERE █████"
      ]
    },
    {
      "cell_type": "markdown",
      "metadata": {
        "id": "-l9-iEXFvBqP"
      },
      "source": [
        "## Ex 2.4 Train sent. prob. [5pt] \n",
        "\n",
        "**Recall** that if we have a sentence $w_1,\\dots,w_n$ we can write\n",
        "\n",
        "$$P(w_1\\dots w_n) = P(w_1)P(w_2|w_1) \\cdots P(w_n|w_1 \\dots w_{n-1}) \\approx P(w_1)P(w_2|w_1)\\cdots P(w_n|w_{n-(N-1)}\\dots w_{n-1})\\prod_{i=1}^{n} P(w_i|w_{i-(N-1)}\\dots w_{i-1})$$\n",
        "\n",
        "where in the last step we make an $N$-gram approximation of the full conditionals.\n",
        "\n",
        "For example, in the case of a bigram (N=2), the above expression reduces to\n",
        "\n",
        "$$P(w_1 \\dots w_n)\\approx P(w_1)\\prod_{i=2}^{n} P(w_i| w_{i-1}).$$\n",
        "\n",
        "The following sentences are taken from the **training data**. Use your **unsmoothed unigram**, **bigram**, and **trigram** language model to estimate their **probabilities**:\n",
        "\n",
        "    1. Every day was about creating something new .\n",
        "    2. In this machine , a beam of protons and anti-protons are accelerated to near the speed of light and brought together in a collision , producing a burst of pure energy ."
      ]
    },
    {
      "cell_type": "code",
      "execution_count": null,
      "metadata": {
        "id": "UdoNkywsvBqQ"
      },
      "outputs": [],
      "source": [
        "def sent_prob(sent, lm, N):\n",
        "    \"\"\"\n",
        "    Calculates probability of sent based on the N-gram language mode lm\n",
        "    :param sent: sentence string\n",
        "    :param lm: N-gram language model\n",
        "    :param N: N-gram size\n",
        "    :returns: probabilitity number\n",
        "    \"\"\"\n",
        "    ## YOUR CODE HERE ##\n",
        "\n",
        "\n",
        "\n",
        "    return prob"
      ]
    },
    {
      "cell_type": "code",
      "execution_count": null,
      "metadata": {
        "id": "9fIwnQCkc91V"
      },
      "outputs": [],
      "source": [
        "# Print all the abovemnetioned probabilities.\n",
        "# The cell output should make it clear what number stands for which probability. \n",
        "# Reuse the variables Unigram, Unigram_sm, Bigram, Bigram_sm, Trigram, and Trigram_sm.\n",
        "\n",
        "Sents_from_train = (\n",
        "    \"Every day was about creating something new .\", \n",
        "    \"In this machine , a beam of protons and anti-protons are accelerated to near the speed of light and brought together in a collision , producing a burst of pure energy .\"\n",
        ")\n",
        "\n",
        "## YOUR CODE HERE ##\n",
        "\n"
      ]
    },
    {
      "cell_type": "markdown",
      "source": [
        "**Repeat** this with the **smoothed (add-1)** versions of the N-grams (in the same above code cell).   \n",
        "**What** is the effect of smoothing on the probabilities and **how** the effect compare across the different $N$-grams models? Provide explanations for the effect and the comparison."
      ],
      "metadata": {
        "id": "uMS37P4azImr"
      }
    },
    {
      "cell_type": "markdown",
      "metadata": {
        "id": "qC_RnO1_vBqQ"
      },
      "source": [
        "█████ YOUR ANSWER HERE █████"
      ]
    },
    {
      "cell_type": "markdown",
      "metadata": {
        "id": "6YFJJ2ThvBqR"
      },
      "source": [
        "## Ex 2.5 Test sent. prob. [5pt]\n",
        "\n",
        "The above sentences were taken from the training set, hence they will all have a probability greater than 0. The big challenge for our language model are of course with the sentences that contain unseen N-grams: if such an N-gram occurs our model immediately assigns the sentence probability zero.\n",
        "\n",
        "The following sentences are taken from the **test set** available in the file **ted-test.txt**.  \n",
        "**Print** the probabilities of the sentences based on the smoothed and unsmoothed language models.\n",
        "\n",
        "    1. Because these robots are really safe .\n",
        "    2. We have sheer nothingness on one side , and we have this vision of a reality that encompasses every conceivable world at the other extreme : the fullest possible reality , nothingness , the simplest possible reality ."
      ]
    },
    {
      "cell_type": "code",
      "execution_count": null,
      "metadata": {
        "id": "g3_00-2qvBqR"
      },
      "outputs": [],
      "source": [
        "# Print all the abovemnetioned probabilities.\n",
        "# The cell output should make it clear what number stands for which probability. \n",
        "# Reuse the variables Unigram, Unigram_sm, Bigram, Bigram_sm, Trigram, and Trigram_sm.\n",
        "\n",
        "Sents_from_test = (\n",
        "    \"Because these robots are really safe .\", \n",
        "    \"We have sheer nothingness on one side , and we have this vision of a reality that encompasses every conceivable world at the other extreme : the fullest possible reality , nothingness , the simplest possible reality .\"\n",
        ")\n",
        "### YOUR CODE HERE ###\n",
        "\n"
      ]
    },
    {
      "cell_type": "markdown",
      "source": [
        "**Contrast** the smoothed and unsmoothed probabilities and **explain** the drastic changes (if any) in terms of unseen tokens and sequences."
      ],
      "metadata": {
        "id": "yXJZrc6bD3X-"
      }
    },
    {
      "cell_type": "markdown",
      "metadata": {
        "id": "wy10zAGgvBqR"
      },
      "source": [
        "█████ YOUR ANSWER HERE █████"
      ]
    },
    {
      "cell_type": "markdown",
      "metadata": {
        "id": "9x4nV5NVvBqS"
      },
      "source": [
        "### [Extra]\n",
        "\n",
        "**Optional** What percentage of the sentences in the test set get assigned probability 0 under your smoothed and unsmoothed language models? "
      ]
    },
    {
      "cell_type": "code",
      "execution_count": null,
      "metadata": {
        "collapsed": true,
        "id": "RZY0PfSlvBqS"
      },
      "outputs": [],
      "source": [
        "### ANSWER HERE ###"
      ]
    },
    {
      "cell_type": "markdown",
      "metadata": {
        "id": "u7HXaUKivBqS"
      },
      "source": [
        "## Ex 2.6 Perplexity [5pt]\n",
        "\n",
        "**Perplexity** is very frequently used **metric** for evaluating probabilistic models such as language models. The perplexity (sometimes called **PP** for short) of a language model on a sentence is the **inverse probability** of the sentence, **normalized** by the number of words:\n",
        "\n",
        "$$PP(w_1 \\dots w_n) = P(w_1\\dots w_n)^{-\\frac{1}{n}}.$$\n",
        "\n",
        "Here we can again approximate $P(w_1 \\dots w_n)$ with N-gram probabilities, as above.\n",
        "Note: $(x_1\\cdots x_n)^{-\\frac{1}{n}}$ is the **geometric mean** of the numbers $x_1,\\dots,x_n$. It is like the (regular) arithmetic mean, but with **products** instead of **sums**. The geometric mean is a more natural choice in the case of *PP* because behind $P(w_1\\dots w_n)$ is a series of $n$ products ([more here](https://en.wikipedia.org/wiki/Geometric_mean)).\n",
        "\n",
        "\n",
        "\n",
        "Compute the perplexity of the sentences in the training data (from exercise 2.1) based on the smoothed bigram language model.  \n",
        "What big difference between the **probabilities** of the sentences and the **perplexities** of the sentences do you notice?  \n",
        "**Provide** the evidence (can be visualized too) and **explain** the difference."
      ]
    },
    {
      "cell_type": "code",
      "execution_count": null,
      "metadata": {
        "id": "8kPgFt0SvBqS"
      },
      "outputs": [],
      "source": [
        "# Feel free to reuse functions and variables form the previous exercises\n",
        "\n",
        "### YOUR CODE HERE ###\n"
      ]
    },
    {
      "cell_type": "markdown",
      "metadata": {
        "id": "2bWMxWTwvBqT"
      },
      "source": [
        "█████ YOUR ANSWER HERE █████"
      ]
    },
    {
      "cell_type": "markdown",
      "metadata": {
        "id": "_lZOzaX5vBqT"
      },
      "source": [
        "# That's it!\n",
        "\n",
        "Congratulations, you have made it to the end of the tutorial. Here we will recap the gist of this notebook. \n",
        "\n",
        "**Make sure all your cells can be executed and all your answers are there. Then, read on if you're interested!**\n",
        "\n",
        "-----\n",
        "\n",
        "By now you should have a solid feeling for the problem of **sparsity in language data**; there's just never enough data. For the task of language modelling, we saw that sparsity is a serious challenge. \n",
        "\n",
        "It would be great to be able to model $p(w_n|w_1 \\dots w_{n-1})$ for unlimited $n$: the larger $n$ the better our language model should become at capturing the long-range dependencies between words that characterize actual human sentences, and the more probability our model will assign to such sentences as opposed to sentences that are word-soup. But in the N-gram approach, increasing $n$ will quickly kill all generalizing abilities of the model: the model will start to assign probabilities only to sentences it has seen in the training data.\n",
        "\n",
        "So, where to go from here? Here are three directions that we could head in.\n",
        "\n",
        "### Smoothing\n",
        "\n",
        "We have seen one example of smoothing in this lab: add-k smoothing. This is an easy method, both conceptually and implementation-wise. But the results are not great, and the effects it has on the distributions can be extreme.\n",
        "\n",
        "A much more sophisticated method of smoothing is **Kneser-Ney smoothing**. The method is described in detail in section 4.5 of J&M (3rd edition). This is one of the best-performing N-gram smoothing methods, and up to a few years ago, a popular implementation of it called [KenLM](https://kheafield.com/code/kenlm/) gave state-of-the-art results.\n",
        "\n",
        "### From words to characters\n",
        "\n",
        "In this lab we have considered language modeling as the task of predicting a **word** $w_n$ based on a history of **words** $w_1\\cdots w_n$. What if instead we let our basic units of modelling be **characters**? The task then becomes to model $p(c_k\\mid c_{k-N-1}\\dots c_{k-1})$ where each $c_i$ is now an ASCII character instead of an entire word.\n",
        "\n",
        "Suddenly sparsity of data is no longer a problem! The set of characters to use is tiny (< 100) compared to even a small-sized vocabulary as today. Have a look at this very illustrative notebook written by Yoav Golberg to see such a method in action: [The unreasonable effectiveness of Character-level Language Models](http://nbviewer.jupyter.org/gist/yoavg/d76121dfde2618422139).\n",
        "\n",
        "(So what is the downside?)\n",
        "\n",
        "\n",
        "### Neural language models\n",
        "\n",
        "The above notebook was actually written as a response to this blog post by Andrej Karpathy: [The Unreasonable Effectiveness of Recurrent Neural Networks](http://karpathy.github.io/2015/05/21/rnn-effectiveness/). Go ahead and read it if you haven't already: it is a superb introduction to the topic of Recurrent Neural Networks.\n",
        "\n",
        "Neural language models solve the problem of data sparsity in a different manner. Instead of estimating the probabilities $p(w_k\\mid w_{k-N-1}\\dots w_{k-1})$ by counting occurrences in the data, they use a neural network $f_{\\theta}$ parametrized by parameters $\\theta$ to predict this probability. The parameters $\\theta$ are learned through optimization. \n",
        "\n",
        "The simplest approach goes like this: each word in the history $w_{k-N-1}\\dots w_{k-1}$ is embedded separately giving vectors $e_{k-N-1}\\dots e_{k-1}$ and then concatenated into one long vector $[e_{k-N-1};\\dots ;e_{k-1}]$. The network then uses this history vector to predict a probability distribution over words $w$ in the vocabulary $V$:\n",
        "\n",
        "$$p(w \\mid w_{k-N-1}\\dots w_{k-1}) = f_{\\theta}([e_{k-N-1};\\dots;e_{k-1}]).$$\n",
        "\n",
        "(In order to produce legitimate probabilities the final layer of such a network will be for example a $softmax$.)\n",
        "\n",
        "This provides a solution to the sparsity problem by having the network let the individual embeddings of the words in the history interact through its non-linear transformation. We are letting the network figure out the smoothing itself!\n",
        "\n",
        "RNNs are a clever extension of this idea, where a hidden state vector $h$ is re-used and updated at each step $k$ in order to store the information of the entire history up to step $k-1$. That is, an RNN actually does away with the N-order approximation; it tries to model the full conditional directly! That means that\n",
        "\n",
        "$$p(w \\mid w_1\\dots w_{k-1}) \\approx RNN_{\\theta}([e_{k-1};h_{k-1}])$$\n",
        "\n",
        "where the hidden state $h_{k-1}$ is a compression of the *entire history* $w_1\\dots w_{k-1}$.\n",
        "\n",
        "Another great place to learn about RNNs, their problems, and solutions to those, is on the blog of [Christopher Olah](http://colah.github.io/posts/2015-08-Understanding-LSTMs/). \n",
        "\n",
        "-----------\n",
        "(And now, it's time to read the classic essay by Eugene Wigner that gave both of the posts their title: [The Unreasonable Effectiveness of Mathematics in the Natural Sciences](http://www.dartmouth.edu/~matc/MathDrama/reading/Wigner.html))"
      ]
    },
    {
      "cell_type": "markdown",
      "source": [
        "# Acknowledgments\n",
        "\n",
        "Most of this lab was developed in collaboration with Joost Bastings and Dan Douwe.  \n",
        "Later it was revised by a couple of people.  \n",
        "The recent updates by Lasha Abzianidze make the notebook more streamlined and foolproof from the grading and the large course perspectives. "
      ],
      "metadata": {
        "id": "acBrUUTFFdHr"
      }
    }
  ],
  "metadata": {
    "anaconda-cloud": {},
    "kernelspec": {
      "display_name": "Python 3 (ipykernel)",
      "language": "python",
      "name": "python3"
    },
    "language_info": {
      "codemirror_mode": {
        "name": "ipython",
        "version": 3
      },
      "file_extension": ".py",
      "mimetype": "text/x-python",
      "name": "python",
      "nbconvert_exporter": "python",
      "pygments_lexer": "ipython3",
      "version": "3.8.10"
    },
    "toc": {
      "base_numbering": 1,
      "nav_menu": {},
      "number_sections": true,
      "sideBar": true,
      "skip_h1_title": false,
      "title_cell": "Table of Contents",
      "title_sidebar": "Contents",
      "toc_cell": false,
      "toc_position": {},
      "toc_section_display": true,
      "toc_window_display": false
    },
    "colab": {
      "provenance": [],
      "collapsed_sections": [
        "Em9s4OTHfYda",
        "YbOqa3y5hefa",
        "mPmwIHiqvBqL",
        "9x4nV5NVvBqS"
      ],
      "include_colab_link": true
    },
    "gpuClass": "standard"
  },
  "nbformat": 4,
  "nbformat_minor": 0
}